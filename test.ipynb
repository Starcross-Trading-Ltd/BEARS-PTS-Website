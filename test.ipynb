{
 "cells": [
  {
   "cell_type": "code",
   "execution_count": 4,
   "id": "a1b6ec0d",
   "metadata": {},
   "outputs": [
    {
     "name": "stderr",
     "output_type": "stream",
     "text": [
      "npm error code ERESOLVE\n",
      "npm error ERESOLVE unable to resolve dependency tree\n",
      "npm error\n",
      "npm error While resolving: my-v0-project@0.1.0\n",
      "npm error Found: date-fns@4.1.0\n",
      "npm error node_modules/date-fns\n",
      "npm error   date-fns@\"4.1.0\" from the root project\n",
      "npm error\n",
      "npm error Could not resolve dependency:\n",
      "npm error peer date-fns@\"^2.28.0 || ^3.0.0\" from react-day-picker@8.10.1\n",
      "npm error node_modules/react-day-picker\n",
      "npm error   react-day-picker@\"8.10.1\" from the root project\n",
      "npm error\n",
      "npm error Fix the upstream dependency conflict, or retry\n",
      "npm error this command with --force or --legacy-peer-deps\n",
      "npm error to accept an incorrect (and potentially broken) dependency resolution.\n",
      "npm error\n",
      "npm error\n",
      "npm error For a full report see:\n",
      "npm error C:\\Users\\MichaelIshak\\AppData\\Local\\npm-cache\\_logs\\2025-06-09T12_22_46_469Z-eresolve-report.txt\n",
      "npm error A complete log of this run can be found in: C:\\Users\\MichaelIshak\\AppData\\Local\\npm-cache\\_logs\\2025-06-09T12_22_46_469Z-debug-0.log\n"
     ]
    }
   ],
   "source": [
    "!npm install"
   ]
  }
 ],
 "metadata": {
  "kernelspec": {
   "display_name": "Python 3",
   "language": "python",
   "name": "python3"
  },
  "language_info": {
   "codemirror_mode": {
    "name": "ipython",
    "version": 3
   },
   "file_extension": ".py",
   "mimetype": "text/x-python",
   "name": "python",
   "nbconvert_exporter": "python",
   "pygments_lexer": "ipython3",
   "version": "3.13.3"
  }
 },
 "nbformat": 4,
 "nbformat_minor": 5
}
